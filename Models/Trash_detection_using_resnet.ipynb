{
 "cells": [
  {
   "cell_type": "code",
   "execution_count": 1,
   "id": "75a67368-1d0b-4f0b-9d8d-33177a16c2f0",
   "metadata": {},
   "outputs": [
    {
     "name": "stderr",
     "output_type": "stream",
     "text": [
      "Intel(R) Extension for Scikit-learn* enabled (https://github.com/intel/scikit-learn-intelex)\n"
     ]
    }
   ],
   "source": [
    "import pandas as pd\n",
    "import numpy as np\n",
    "from sklearn.metrics import accuracy_score,confusion_matrix"
   ]
  },
  {
   "cell_type": "code",
   "execution_count": 2,
   "id": "0eff0306-6e74-4755-a3df-933d2e228fd5",
   "metadata": {},
   "outputs": [
    {
     "name": "stderr",
     "output_type": "stream",
     "text": [
      "2023-04-21 08:40:49.324689: I tensorflow/tsl/cuda/cudart_stub.cc:28] Could not find cuda drivers on your machine, GPU will not be used.\n",
      "2023-04-21 08:40:49.364807: I tensorflow/tsl/cuda/cudart_stub.cc:28] Could not find cuda drivers on your machine, GPU will not be used.\n",
      "2023-04-21 08:40:49.366145: I tensorflow/core/platform/cpu_feature_guard.cc:182] This TensorFlow binary is optimized to use available CPU instructions in performance-critical operations.\n",
      "To enable the following instructions: AVX2 AVX512F FMA, in other operations, rebuild TensorFlow with the appropriate compiler flags.\n",
      "2023-04-21 08:40:53.401042: W tensorflow/compiler/tf2tensorrt/utils/py_utils.cc:38] TF-TRT Warning: Could not find TensorRT\n"
     ]
    }
   ],
   "source": [
    "import tensorflow as tf\n",
    "from tensorflow.keras.layers import Dense, GlobalAveragePooling2D\n",
    "from tensorflow.keras.models import Model\n",
    "from tensorflow.keras.optimizers import Adam\n",
    "from tensorflow.keras.preprocessing.image import ImageDataGenerator\n",
    "from tensorflow.keras.preprocessing import image"
   ]
  },
  {
   "cell_type": "code",
   "execution_count": 3,
   "id": "44c3b575-06c8-4447-838e-04f15bb89331",
   "metadata": {},
   "outputs": [
    {
     "name": "stdout",
     "output_type": "stream",
     "text": [
      "Found 146 validated image filenames belonging to 5 classes.\n"
     ]
    },
    {
     "name": "stderr",
     "output_type": "stream",
     "text": [
      "/home/u191397/.local/lib/python3.9/site-packages/keras/preprocessing/image.py:1137: UserWarning: Found 1328 invalid image filename(s) in x_col=\"filename\". These filename(s) will be ignored.\n",
      "  warnings.warn(\n"
     ]
    }
   ],
   "source": [
    "train_datagen = ImageDataGenerator(\n",
    "    rescale=1./255,\n",
    "    shear_range=0.2,\n",
    "    zoom_range=0.2,\n",
    "    horizontal_flip=True)\n",
    "\n",
    "train_labels = pd.read_csv('train_data/_annotations.csv')\n",
    "\n",
    "train_labels['class'] = train_labels['class'].astype(str)\n",
    "train_generator = train_datagen.flow_from_dataframe(\n",
    "    train_labels,\n",
    "    directory='train_data',\n",
    "    x_col='filename',\n",
    "    y_col='class',\n",
    "    target_size=(771,771),\n",
    "    batch_size=32,\n",
    "    class_mode='categorical')"
   ]
  },
  {
   "cell_type": "code",
   "execution_count": null,
   "id": "a86e5a62-6e56-4bc2-9ae2-373915b8f8c6",
   "metadata": {},
   "outputs": [
    {
     "name": "stdout",
     "output_type": "stream",
     "text": [
      "Epoch 1/20\n"
     ]
    },
    {
     "name": "stderr",
     "output_type": "stream",
     "text": [
      "2023-04-21 08:41:07.495276: I tensorflow/core/common_runtime/executor.cc:1197] [/device:CPU:0] (DEBUG INFO) Executor start aborting (this does not indicate an error and you can ignore this message): INVALID_ARGUMENT: You must feed a value for placeholder tensor 'Placeholder/_0' with dtype int32\n",
      "\t [[{{node Placeholder/_0}}]]\n"
     ]
    },
    {
     "name": "stdout",
     "output_type": "stream",
     "text": [
      "4/4 [==============================] - 134s 32s/step - loss: 0.8560 - accuracy: 0.4737\n",
      "Epoch 2/20\n",
      "4/4 [==============================] - 129s 30s/step - loss: 0.7408 - accuracy: 0.8000\n",
      "Epoch 3/20\n",
      "4/4 [==============================] - 91s 20s/step - loss: 0.6518 - accuracy: 0.8000\n",
      "Epoch 4/20\n",
      "4/4 [==============================] - 88s 23s/step - loss: 0.5324 - accuracy: 0.8000\n",
      "Epoch 5/20\n",
      "4/4 [==============================] - 99s 23s/step - loss: 0.5651 - accuracy: 0.8000\n",
      "Epoch 6/20\n",
      "4/4 [==============================] - 90s 20s/step - loss: 0.5105 - accuracy: 0.8000\n",
      "Epoch 7/20\n",
      "4/4 [==============================] - 90s 20s/step - loss: 0.5343 - accuracy: 0.8000\n",
      "Epoch 8/20\n",
      "4/4 [==============================] - 90s 20s/step - loss: 0.5059 - accuracy: 0.8000\n",
      "Epoch 9/20\n",
      "4/4 [==============================] - 89s 20s/step - loss: 0.5152 - accuracy: 0.8000\n",
      "Epoch 10/20\n",
      "4/4 [==============================] - 90s 20s/step - loss: 0.5027 - accuracy: 0.8000\n",
      "Epoch 11/20\n",
      "4/4 [==============================] - 90s 20s/step - loss: 0.5072 - accuracy: 0.8000\n",
      "Epoch 12/20\n",
      "4/4 [==============================] - 90s 20s/step - loss: 0.5018 - accuracy: 0.8000\n",
      "Epoch 13/20\n",
      "4/4 [==============================] - 90s 20s/step - loss: 0.5032 - accuracy: 0.8000\n",
      "Epoch 14/20\n",
      "4/4 [==============================] - 89s 20s/step - loss: 0.5010 - accuracy: 0.8000\n",
      "Epoch 15/20\n",
      "4/4 [==============================] - 90s 20s/step - loss: 0.5022 - accuracy: 0.8000\n",
      "Epoch 16/20\n",
      "4/4 [==============================] - 88s 23s/step - loss: 0.5009 - accuracy: 0.8000\n",
      "Epoch 17/20\n",
      "4/4 [==============================] - 90s 20s/step - loss: 0.5012 - accuracy: 0.8000\n",
      "Epoch 18/20\n",
      "4/4 [==============================] - 90s 20s/step - loss: 0.5008 - accuracy: 0.8000\n",
      "Epoch 19/20\n",
      "4/4 [==============================] - 99s 23s/step - loss: 0.5008 - accuracy: 0.8000\n",
      "Epoch 20/20\n",
      "3/4 [=====================>........] - ETA: 23s - loss: 0.5008 - accuracy: 0.8000"
     ]
    }
   ],
   "source": [
    "base_model = tf.keras.applications.ResNet152(\n",
    "    include_top=False, weights='imagenet', input_shape=(224, 224, 3))\n",
    "for layer in base_model.layers:\n",
    "    layer.trainable = False\n",
    "\n",
    "\n",
    "x = base_model.output\n",
    "x = GlobalAveragePooling2D()(x)\n",
    "x = Dense(1024, activation='relu')(x)\n",
    "predictions = Dense(1, activation='sigmoid')(x)\n",
    "\n",
    "\n",
    "model = Model(inputs=base_model.input, outputs=predictions)\n",
    "\n",
    "\n",
    "for layer in base_model.layers:\n",
    "    layer.trainable = False\n",
    "\n",
    "model.compile(optimizer=Adam(learning_rate=0.0001), loss='binary_crossentropy',\n",
    "              metrics=['accuracy'])\n",
    "\n",
    "\n",
    "model.fit(\n",
    "    train_generator,\n",
    "    steps_per_epoch=train_generator.samples // train_generator.batch_size,\n",
    "    epochs=20)"
   ]
  },
  {
   "cell_type": "code",
   "execution_count": null,
   "id": "44d52981-1251-49dc-8a61-cd57b18dffad",
   "metadata": {},
   "outputs": [],
   "source": [
    "t_test_df = pd.read_csv(\"test_data/_annotations.csv\")"
   ]
  },
  {
   "cell_type": "code",
   "execution_count": 6,
   "id": "25684fb8-ab46-417d-840e-3f479338b62f",
   "metadata": {},
   "outputs": [
    {
     "name": "stderr",
     "output_type": "stream",
     "text": [
      "/home/u191397/.local/lib/python3.9/site-packages/keras/preprocessing/image.py:1137: UserWarning: Found 141 invalid image filename(s) in x_col=\"filename\". These filename(s) will be ignored.\n",
      "  warnings.warn(\n",
      "/home/u191397/tmp/ipykernel_3082191/3047856893.py:13: UserWarning: `Model.predict_generator` is deprecated and will be removed in a future version. Please use `Model.predict`, which supports generators.\n",
      "  preds = model.predict_generator(t_test_generator, steps=None)\n",
      "2023-04-21 09:12:51.680800: I tensorflow/core/common_runtime/executor.cc:1197] [/device:CPU:0] (DEBUG INFO) Executor start aborting (this does not indicate an error and you can ignore this message): INVALID_ARGUMENT: You must feed a value for placeholder tensor 'Placeholder/_0' with dtype int32\n",
      "\t [[{{node Placeholder/_0}}]]\n"
     ]
    }
   ],
   "source": [
    "t_test_datagen = ImageDataGenerator(rescale=1./255)\n",
    "t_test_generator = t_test_datagen.flow_from_dataframe(\n",
    "    t_test_df,\n",
    "    directory=\"test_data\",\n",
    "    x_col='filename',\n",
    "    y_col=None,\n",
    "    target_size=(224, 224),\n",
    "    batch_size=32,\n",
    "    class_mode=None,\n",
    "    shuffle=False)\n",
    "\n",
    "\n",
    "preds = model.predict_generator(t_test_generator, steps=None)\n",
    "\n",
    "missing_filenames = set(t_test_generator.filenames) - set(t_test_df['filename'])\n",
    "if missing_filenames:\n",
    "    print(f'Removing {len(missing_filenames)} missing filenames from the test CSV file.')\n",
    "    t_test_df = t_test_df[~t_test_df['filename'].isin(missing_filenames)]"
   ]
  },
  {
   "cell_type": "code",
   "execution_count": 7,
   "id": "9704ea76-5c47-49b4-a177-035a89d6d8d9",
   "metadata": {},
   "outputs": [],
   "source": [
    "li = []\n",
    "for i in preds.ravel():\n",
    "    if i>0.5:\n",
    "        li.append(1)\n",
    "    else:\n",
    "        li.append(0)\n",
    "     \n",
    "\n",
    "df = pd.DataFrame({'filename': t_test_generator.filenames[:len(preds)], 'class': li})\n",
    "\n",
    "test_inst_df=pd.merge(df, t_test_df, on='filename', how='inner')"
   ]
  },
  {
   "cell_type": "code",
   "execution_count": 8,
   "id": "1fd640bb-fafd-475e-a4f7-f3d419ae21f1",
   "metadata": {},
   "outputs": [],
   "source": [
    "model.save('models/resnet.h5')"
   ]
  },
  {
   "cell_type": "code",
   "execution_count": null,
   "id": "8833faa8-58d9-4fd6-bf77-54671ca49a68",
   "metadata": {},
   "outputs": [],
   "source": []
  }
 ],
 "metadata": {
  "kernelspec": {
   "display_name": "Python 3 (Intel® oneAPI 2023.0)",
   "language": "python",
   "name": "c009-intel_distribution_of_python_3_oneapi-beta05-python"
  },
  "language_info": {
   "codemirror_mode": {
    "name": "ipython",
    "version": 3
   },
   "file_extension": ".py",
   "mimetype": "text/x-python",
   "name": "python",
   "nbconvert_exporter": "python",
   "pygments_lexer": "ipython3",
   "version": "3.9.15"
  }
 },
 "nbformat": 4,
 "nbformat_minor": 5
}
