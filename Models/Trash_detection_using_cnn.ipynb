{
 "cells": [
  {
   "cell_type": "code",
   "execution_count": 16,
   "id": "5b48cc15-66f3-44a3-8e8b-dd910258fac6",
   "metadata": {
    "tags": []
   },
   "outputs": [
    {
     "name": "stdout",
     "output_type": "stream",
     "text": [
      "Epoch 1/10\n"
     ]
    },
    {
     "name": "stderr",
     "output_type": "stream",
     "text": [
      "2023-04-26 00:47:58.566142: I tensorflow/core/grappler/optimizers/custom_graph_optimizer_registry.cc:114] Plugin optimizer for device_type CPU is enabled.\n",
      "2023-04-26 00:47:58.584239: I tensorflow/core/grappler/optimizers/custom_graph_optimizer_registry.cc:114] Plugin optimizer for device_type CPU is enabled.\n",
      "2023-04-26 00:47:58.605067: I tensorflow/core/grappler/optimizers/custom_graph_optimizer_registry.cc:114] Plugin optimizer for device_type CPU is enabled.\n",
      "/home/u191397/.local/lib/python3.9/site-packages/tensorflow/python/util/dispatch.py:1176: SyntaxWarning: In loss categorical_crossentropy, expected y_pred.shape to be (batch_size, num_classes) with num_classes > 1. Received: y_pred.shape=(None, 1). Consider using 'binary_crossentropy' if you only have 2 classes.\n",
      "  return dispatch_target(*args, **kwargs)\n",
      "2023-04-26 00:47:59.149440: I tensorflow/core/grappler/optimizers/custom_graph_optimizer_registry.cc:114] Plugin optimizer for device_type CPU is enabled.\n"
     ]
    },
    {
     "name": "stdout",
     "output_type": "stream",
     "text": [
      "309/309 [==============================] - ETA: 0s - loss: 0.0000e+00 - accuracy: 0.0130"
     ]
    },
    {
     "name": "stderr",
     "output_type": "stream",
     "text": [
      "2023-04-26 00:50:05.390104: I tensorflow/core/grappler/optimizers/custom_graph_optimizer_registry.cc:114] Plugin optimizer for device_type CPU is enabled.\n",
      "2023-04-26 00:50:05.416528: I tensorflow/core/grappler/optimizers/custom_graph_optimizer_registry.cc:114] Plugin optimizer for device_type CPU is enabled.\n",
      "2023-04-26 00:50:05.439865: I tensorflow/core/grappler/optimizers/custom_graph_optimizer_registry.cc:114] Plugin optimizer for device_type CPU is enabled.\n",
      "2023-04-26 00:50:05.643285: I tensorflow/core/grappler/optimizers/custom_graph_optimizer_registry.cc:114] Plugin optimizer for device_type CPU is enabled.\n"
     ]
    },
    {
     "name": "stdout",
     "output_type": "stream",
     "text": [
      "309/309 [==============================] - 128s 411ms/step - loss: 0.0000e+00 - accuracy: 0.0130 - val_loss: 0.0000e+00 - val_accuracy: 0.0152\n",
      "Epoch 2/10\n",
      "309/309 [==============================] - ETA: 0s - loss: 0.0000e+00 - accuracy: 0.0130"
     ]
    },
    {
     "name": "stderr",
     "output_type": "stream",
     "text": [
      "2023-04-26 00:52:08.813620: I tensorflow/core/grappler/optimizers/custom_graph_optimizer_registry.cc:114] Plugin optimizer for device_type CPU is enabled.\n",
      "2023-04-26 00:52:08.847329: I tensorflow/core/grappler/optimizers/custom_graph_optimizer_registry.cc:114] Plugin optimizer for device_type CPU is enabled.\n",
      "2023-04-26 00:52:08.886945: I tensorflow/core/grappler/optimizers/custom_graph_optimizer_registry.cc:114] Plugin optimizer for device_type CPU is enabled.\n"
     ]
    },
    {
     "name": "stdout",
     "output_type": "stream",
     "text": [
      "309/309 [==============================] - 123s 399ms/step - loss: 0.0000e+00 - accuracy: 0.0130 - val_loss: 0.0000e+00 - val_accuracy: 0.0152\n",
      "Epoch 3/10\n",
      "309/309 [==============================] - ETA: 0s - loss: 0.0000e+00 - accuracy: 0.0130"
     ]
    },
    {
     "name": "stderr",
     "output_type": "stream",
     "text": [
      "2023-04-26 00:54:12.349139: I tensorflow/core/grappler/optimizers/custom_graph_optimizer_registry.cc:114] Plugin optimizer for device_type CPU is enabled.\n",
      "2023-04-26 00:54:12.383143: I tensorflow/core/grappler/optimizers/custom_graph_optimizer_registry.cc:114] Plugin optimizer for device_type CPU is enabled.\n",
      "2023-04-26 00:54:12.422571: I tensorflow/core/grappler/optimizers/custom_graph_optimizer_registry.cc:114] Plugin optimizer for device_type CPU is enabled.\n"
     ]
    },
    {
     "name": "stdout",
     "output_type": "stream",
     "text": [
      "309/309 [==============================] - 124s 400ms/step - loss: 0.0000e+00 - accuracy: 0.0130 - val_loss: 0.0000e+00 - val_accuracy: 0.0152\n",
      "Epoch 4/10\n",
      "309/309 [==============================] - ETA: 0s - loss: 0.0000e+00 - accuracy: 0.0130"
     ]
    },
    {
     "name": "stderr",
     "output_type": "stream",
     "text": [
      "2023-04-26 00:56:16.241429: I tensorflow/core/grappler/optimizers/custom_graph_optimizer_registry.cc:114] Plugin optimizer for device_type CPU is enabled.\n",
      "2023-04-26 00:56:16.274802: I tensorflow/core/grappler/optimizers/custom_graph_optimizer_registry.cc:114] Plugin optimizer for device_type CPU is enabled.\n",
      "2023-04-26 00:56:16.314352: I tensorflow/core/grappler/optimizers/custom_graph_optimizer_registry.cc:114] Plugin optimizer for device_type CPU is enabled.\n"
     ]
    },
    {
     "name": "stdout",
     "output_type": "stream",
     "text": [
      "309/309 [==============================] - 124s 401ms/step - loss: 0.0000e+00 - accuracy: 0.0130 - val_loss: 0.0000e+00 - val_accuracy: 0.0152\n",
      "Epoch 5/10\n",
      "309/309 [==============================] - ETA: 0s - loss: 0.0000e+00 - accuracy: 0.0130"
     ]
    },
    {
     "name": "stderr",
     "output_type": "stream",
     "text": [
      "2023-04-26 00:58:19.504993: I tensorflow/core/grappler/optimizers/custom_graph_optimizer_registry.cc:114] Plugin optimizer for device_type CPU is enabled.\n",
      "2023-04-26 00:58:19.536901: I tensorflow/core/grappler/optimizers/custom_graph_optimizer_registry.cc:114] Plugin optimizer for device_type CPU is enabled.\n",
      "2023-04-26 00:58:19.576034: I tensorflow/core/grappler/optimizers/custom_graph_optimizer_registry.cc:114] Plugin optimizer for device_type CPU is enabled.\n"
     ]
    },
    {
     "name": "stdout",
     "output_type": "stream",
     "text": [
      "309/309 [==============================] - 123s 399ms/step - loss: 0.0000e+00 - accuracy: 0.0130 - val_loss: 0.0000e+00 - val_accuracy: 0.0152\n",
      "Epoch 6/10\n",
      "309/309 [==============================] - ETA: 0s - loss: 0.0000e+00 - accuracy: 0.0130"
     ]
    },
    {
     "name": "stderr",
     "output_type": "stream",
     "text": [
      "2023-04-26 01:00:23.147261: I tensorflow/core/grappler/optimizers/custom_graph_optimizer_registry.cc:114] Plugin optimizer for device_type CPU is enabled.\n",
      "2023-04-26 01:00:23.196967: I tensorflow/core/grappler/optimizers/custom_graph_optimizer_registry.cc:114] Plugin optimizer for device_type CPU is enabled.\n",
      "2023-04-26 01:00:23.236470: I tensorflow/core/grappler/optimizers/custom_graph_optimizer_registry.cc:114] Plugin optimizer for device_type CPU is enabled.\n"
     ]
    },
    {
     "name": "stdout",
     "output_type": "stream",
     "text": [
      "309/309 [==============================] - 124s 400ms/step - loss: 0.0000e+00 - accuracy: 0.0130 - val_loss: 0.0000e+00 - val_accuracy: 0.0152\n",
      "Epoch 7/10\n",
      "309/309 [==============================] - ETA: 0s - loss: 0.0000e+00 - accuracy: 0.0130"
     ]
    },
    {
     "name": "stderr",
     "output_type": "stream",
     "text": [
      "2023-04-26 01:02:26.495025: I tensorflow/core/grappler/optimizers/custom_graph_optimizer_registry.cc:114] Plugin optimizer for device_type CPU is enabled.\n",
      "2023-04-26 01:02:26.528588: I tensorflow/core/grappler/optimizers/custom_graph_optimizer_registry.cc:114] Plugin optimizer for device_type CPU is enabled.\n",
      "2023-04-26 01:02:26.567850: I tensorflow/core/grappler/optimizers/custom_graph_optimizer_registry.cc:114] Plugin optimizer for device_type CPU is enabled.\n"
     ]
    },
    {
     "name": "stdout",
     "output_type": "stream",
     "text": [
      "309/309 [==============================] - 123s 399ms/step - loss: 0.0000e+00 - accuracy: 0.0130 - val_loss: 0.0000e+00 - val_accuracy: 0.0152\n",
      "Epoch 8/10\n",
      "309/309 [==============================] - ETA: 0s - loss: 0.0000e+00 - accuracy: 0.0130"
     ]
    },
    {
     "name": "stderr",
     "output_type": "stream",
     "text": [
      "2023-04-26 01:04:30.333271: I tensorflow/core/grappler/optimizers/custom_graph_optimizer_registry.cc:114] Plugin optimizer for device_type CPU is enabled.\n",
      "2023-04-26 01:04:30.366574: I tensorflow/core/grappler/optimizers/custom_graph_optimizer_registry.cc:114] Plugin optimizer for device_type CPU is enabled.\n",
      "2023-04-26 01:04:30.405979: I tensorflow/core/grappler/optimizers/custom_graph_optimizer_registry.cc:114] Plugin optimizer for device_type CPU is enabled.\n"
     ]
    },
    {
     "name": "stdout",
     "output_type": "stream",
     "text": [
      "309/309 [==============================] - 124s 401ms/step - loss: 0.0000e+00 - accuracy: 0.0130 - val_loss: 0.0000e+00 - val_accuracy: 0.0152\n",
      "Epoch 9/10\n",
      "309/309 [==============================] - ETA: 0s - loss: 0.0000e+00 - accuracy: 0.0130"
     ]
    },
    {
     "name": "stderr",
     "output_type": "stream",
     "text": [
      "2023-04-26 01:06:33.348004: I tensorflow/core/grappler/optimizers/custom_graph_optimizer_registry.cc:114] Plugin optimizer for device_type CPU is enabled.\n",
      "2023-04-26 01:06:33.365541: I tensorflow/core/grappler/optimizers/custom_graph_optimizer_registry.cc:114] Plugin optimizer for device_type CPU is enabled.\n",
      "2023-04-26 01:06:33.394651: I tensorflow/core/grappler/optimizers/custom_graph_optimizer_registry.cc:114] Plugin optimizer for device_type CPU is enabled.\n"
     ]
    },
    {
     "name": "stdout",
     "output_type": "stream",
     "text": [
      "309/309 [==============================] - 123s 398ms/step - loss: 0.0000e+00 - accuracy: 0.0130 - val_loss: 0.0000e+00 - val_accuracy: 0.0152\n",
      "Epoch 10/10\n",
      "309/309 [==============================] - ETA: 0s - loss: 0.0000e+00 - accuracy: 0.0130"
     ]
    },
    {
     "name": "stderr",
     "output_type": "stream",
     "text": [
      "2023-04-26 01:08:41.020832: I tensorflow/core/grappler/optimizers/custom_graph_optimizer_registry.cc:114] Plugin optimizer for device_type CPU is enabled.\n",
      "2023-04-26 01:08:41.054687: I tensorflow/core/grappler/optimizers/custom_graph_optimizer_registry.cc:114] Plugin optimizer for device_type CPU is enabled.\n",
      "2023-04-26 01:08:41.094237: I tensorflow/core/grappler/optimizers/custom_graph_optimizer_registry.cc:114] Plugin optimizer for device_type CPU is enabled.\n"
     ]
    },
    {
     "name": "stdout",
     "output_type": "stream",
     "text": [
      "309/309 [==============================] - 128s 413ms/step - loss: 0.0000e+00 - accuracy: 0.0130 - val_loss: 0.0000e+00 - val_accuracy: 0.0152\n",
      " 1/13 [=>............................] - ETA: 2s - loss: 0.0000e+00 - accuracy: 0.0000e+00"
     ]
    },
    {
     "name": "stderr",
     "output_type": "stream",
     "text": [
      "2023-04-26 01:09:21.465792: I tensorflow/core/grappler/optimizers/custom_graph_optimizer_registry.cc:114] Plugin optimizer for device_type CPU is enabled.\n",
      "2023-04-26 01:09:21.482862: I tensorflow/core/grappler/optimizers/custom_graph_optimizer_registry.cc:114] Plugin optimizer for device_type CPU is enabled.\n",
      "2023-04-26 01:09:21.504120: I tensorflow/core/grappler/optimizers/custom_graph_optimizer_registry.cc:114] Plugin optimizer for device_type CPU is enabled.\n"
     ]
    },
    {
     "name": "stdout",
     "output_type": "stream",
     "text": [
      "13/13 [==============================] - 1s 93ms/step - loss: 0.0000e+00 - accuracy: 0.0152\n",
      "Test accuracy: 0.015228426083922386\n"
     ]
    }
   ],
   "source": [
    "import os\n",
    "import json\n",
    "import cv2\n",
    "import numpy as np\n",
    "from sklearn.model_selection import train_test_split\n",
    "from sklearn.preprocessing import LabelEncoder\n",
    "import tensorflow as tf\n",
    "from tensorflow.keras.models import Sequential\n",
    "from tensorflow.keras.layers import Conv2D, MaxPooling2D, Flatten, Dense\n",
    "\n",
    "# Set up dataset paths\n",
    "data_path = 'dataset'\n",
    "train_data_path = os.path.join(data_path, 'train')\n",
    "test_data_path = os.path.join(data_path, 'test')\n",
    "train_ann_path = os.path.join(data_path, 'train.json')\n",
    "test_ann_path = os.path.join(data_path, 'test.json')\n",
    "\n",
    "# Load annotations\n",
    "with open(train_ann_path, 'r') as f:\n",
    "    train_ann = json.load(f)\n",
    "    \n",
    "with open(test_ann_path, 'r') as f:\n",
    "    test_ann = json.load(f)\n",
    "\n",
    "# Load and preprocess train data\n",
    "X_train = []\n",
    "y_train = []\n",
    "\n",
    "\n",
    "for i in range(0,len(train_ann['images'])):\n",
    "\n",
    "# access filename and bbox of the first image\n",
    "    filename = train_ann['images'][i]['file_name']\n",
    "    \n",
    "    \n",
    "    img_path=os.path.join(train_data_path ,filename)\n",
    "    \n",
    "    if os.path.exists(img_path):\n",
    "            \n",
    "            img=cv2.imread(img_path)\n",
    "            img = cv2.cvtColor(img, cv2.COLOR_BGR2RGB)\n",
    "            \n",
    "            for annotation in train_ann['annotations']:\n",
    "                    if annotation['image_id'] == train_ann['images'][i]['id']:\n",
    "                        bbox = annotation['bbox']\n",
    "                        x, y, w, h = bbox[0], bbox[1], bbox[2], bbox[3]\n",
    "                        X_train.append(cv2.resize(img[y:y+h, x:x+w], (224, 224)))\n",
    "                        y_train.append(annotation['category_id'])\n",
    "                        \n",
    "X_train = np.array(X_train)\n",
    "y_train = np.array(y_train)\n",
    "            \n",
    "X_test=[]\n",
    "y_test=[]\n",
    "    \n",
    "for i in range(0,len(test_ann['images'])):\n",
    "\n",
    "# access filename and bbox of the first image\n",
    "    filename = test_ann['images'][i]['file_name']\n",
    "    \n",
    "    \n",
    "    img_path=os.path.join(test_data_path ,filename)\n",
    "    \n",
    "    if os.path.exists(img_path):\n",
    "            \n",
    "            img=cv2.imread(img_path)\n",
    "            img = cv2.cvtColor(img, cv2.COLOR_BGR2RGB)\n",
    "            \n",
    "            for annotation in test_ann['annotations']:\n",
    "                    if annotation['image_id'] == test_ann['images'][i]['id']:\n",
    "                        bbox = annotation['bbox']\n",
    "                        \n",
    "                        x, y, w, h = map(int, bbox)\n",
    "                        X_test.append(cv2.resize(img[y:y+h, x:x+w], (224, 224)))\n",
    "                        y_test.append(annotation['category_id'])\n",
    "                        \n",
    "X_test = np.array(X_test)\n",
    "y_test = np.array(y_test)    \n",
    "        \n",
    "model = Sequential()\n",
    "model.add(Conv2D(32, kernel_size=(3, 3), activation='relu', input_shape=(224, 224, 3)))\n",
    "model.add(MaxPooling2D(pool_size=(2, 2)))\n",
    "model.add(Conv2D(64, kernel_size=(3, 3), activation='relu'))\n",
    "model.add(MaxPooling2D(pool_size=(2, 2)))\n",
    "model.add(Conv2D(128, kernel_size=(3, 3), activation='relu'))\n",
    "model.add(MaxPooling2D(pool_size=(2, 2)))\n",
    "model.add(Flatten())\n",
    "model.add(Dense(128, activation='relu'))\n",
    "model.add(Dense(1, activation='softmax'))\n",
    "\n",
    "# Compile model\n",
    "model.compile(loss='categorical_crossentropy', optimizer='adam', metrics=['accuracy'])\n",
    "\n",
    "# Train model\n",
    "model.fit(X_train, y_train, epochs=10, validation_data=(X_test, y_test))\n",
    "\n",
    "# Evaluate model\n",
    "test_loss, test_acc = model.evaluate(X_test, y_test)\n",
    "print('Test accuracy:', test_acc)\n"
   ]
  },
  {
   "cell_type": "code",
   "execution_count": null,
   "id": "2ab9b278-52c3-45b8-ab90-12daf477fd7c",
   "metadata": {},
   "outputs": [],
   "source": []
  }
 ],
 "metadata": {
  "kernelspec": {
   "display_name": "Python 3 (Intel® oneAPI 2023.0)",
   "language": "python",
   "name": "c009-intel_distribution_of_python_3_oneapi-beta05-python"
  },
  "language_info": {
   "codemirror_mode": {
    "name": "ipython",
    "version": 3
   },
   "file_extension": ".py",
   "mimetype": "text/x-python",
   "name": "python",
   "nbconvert_exporter": "python",
   "pygments_lexer": "ipython3",
   "version": "3.9.15"
  }
 },
 "nbformat": 4,
 "nbformat_minor": 5
}
